import math
import matplotlib.pyplot as plt

x=-6
xmax=6
t=0
tmax=1
dt=0.01

u=1.75*sin(x-20*t)
logical_index = np.where(np.logical_and(x >=-6,x <=6 np.logical_and(u >= -2, y <=2)))



RAN OUT OF TIME.





u2=1.8*exp(-2*(x-12*t+6)**2)