import numpy as np
import matplotlib.pyplot as plt

dt=np.dtype([('A',float),('B',float),('C',float),('D',float),('E',float),('F',float)])
data=np.recfromcsv('ISSN_D_tot.csv', delimiter=',',dtype=dt)

#I can't figure out why the data isn't going into coloumns....

#Finding the Average
#g=sum(E)
#nbar=mean(g)

#Finding The Median
#N=med(E)

#Finding the Standard Deviation
#sig=std(E)

#poserr=nbar-sig
#negerr=nbar-sig

#Values that I couldn't find but know:
nbar=32.75
N=28
sig=10.32
poserr=nbar-sig
negerr=nbar-sig

print('The most recent sunspot observations were on 2014-09-15.')
print('Statistics of daily susnpot observations (1818-present):')
print('Mean:', (nbar))
print('Median:',(N))
print('Standard Deviation:',(sig))


#where x=the coloumn of sunspots(coloumn E) and y=coloumn for time (coloumn D)
#logical_index = np.where(np.logical_and(x >=1836,x <=2015.5 np.logical_and(y >= -5, y <=0)))
#plt.plot(x[logical_index], y[logical_index],'c.')
#plt.plot(x,y,'c.')
plt.plot(0,nbar,color='blue')
plt.plot(0,N,color='black')
plt.plot(0,poserr,color='magenta',linestyle='-')
plt.plot(0,negerr,color='magenta',linestyle='-')
plt.title('Daily sunspots observations(1818 to 2014)')
plt.show()


