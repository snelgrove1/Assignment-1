import numpy as np
np.seterr(invalid='ignore')



print('n','         ','F_n')


ran out of time in exam
