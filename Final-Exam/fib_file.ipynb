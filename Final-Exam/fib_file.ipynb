import numpy as np
np.seterr(invalid='ignore')



print('n','         ','F_n')
