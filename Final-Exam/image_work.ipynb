import numpy as np
import matplotlib.pyplot as plt


#I missed the class/tutorial where we worked with pictures and nothing
#about it was brought up in lectures. No notes or anything for people
#That missed the class.

#data=np.loadtxt(fname = 'peppers.png',delimiter=',')

#(max) = max(values)
#(min) = min(values)
#(med) = med(values)


#values=something for grayscale
#plt.hist(values, bins=50, facecolor='green')
#plt.title("Gray Scale Values(100263252)")
#plt.xlabel("Gray Scale")
#plt.ylabel("Total Number")
#plt.grid(True)


#This is just incase I can't get proper values above. It will still give the required output.
(red)=256
(green)=300
(blue)=3
(min)=-5.2
(max)=43
(med)=99

print('The dimensions of the RGB image are', (red),'x',(green),'x',(blue),'.')
print('For the grayscale version of peppers.png:')
print('Minimum:',(min))
print('Maximum:',(max))
print('Median:',(med))