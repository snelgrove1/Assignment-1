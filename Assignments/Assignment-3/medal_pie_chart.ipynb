import matplotlib.pyplot as plt
import matplotlib.pyplot as font

labels= 'USA', 'CHN', 'GBR', 'RUS', 'KOR', 'GER', 'FRA', 'ITA', 'HUN', 'AUS', 'OTHER'
sizes= [46,38,29,24,13,11,11,8,8,7,107]

plt.pie(sizes,labels=labels,startangle=75,shadow=True,autopct='%1.1f%%')

plt.axis()

plt.title('2012 Olympic gold medals (100263252)')
plt.show()