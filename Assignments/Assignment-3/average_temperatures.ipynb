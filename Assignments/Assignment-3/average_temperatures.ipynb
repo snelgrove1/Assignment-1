import numpy as np
import matplotlib.pyplot as plt

x=np.array([1,2,3,4,5,6,7,8,9,10,11,12],float)

month=np.array(['Jan','Feb','Mar','Apr','May','Jun','Jul','Aug','Sep','Oct','Nov','Dec'])

to=np.loadtxt(fname='toronto_temperature_2012.dat')
va=np.loadtxt(fname='vancouver_temperature_2012.dat')
mo=np.loadtxt(fname='montreal_temperature_2012.dat')

plt.plot(x,to,label='Toronto',linestyle='-.',linewidth='2')
plt.plot(x,va,label='Vancouver',linestyle='--')
plt.plot(x,mo,label='Montreal',linewidth='0.5')
plt.xlabel('Month of the Year')
plt.ylabel('Temperature in Celcius')
plt.title('2012 Average Monthly Temperatures (100263252)')
plt.xticks(x,month)
plt.legend(bbox_to_anchor=(0,1.05,1,.102),loc=3,ncol=3,mode="expand",borderaxespad=0.)

plt.show()

