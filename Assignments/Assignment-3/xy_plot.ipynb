import numpy as np
import matplotlib.pyplot as plt

data_1=np.loadtxt(fname='xy_points.dat')
x=data_1[0,0:1000]
y=data_1[1,0:1000]

a=x[np.logical_and(x<-2,np.logical_and(y>=-5,y<=0))]
b=y[np.logical_and(x<-2,np.logical_and(y>=-5,y<=0))]

xc=0;yc=5
r=((x-xc)**2+(y-yc)**2)**(0.5)
xr=x[r<5]
yr=y[r<5]

plt.scatter(x,y,color='red')
plt.scatter(a,b,color='blue')
plt.scatter(xr,yr,color='green')
plt.xlim([-10,10])
plt.ylim([-10,10])
plt.title('Highlighted Points (100263252)')
plt.show()