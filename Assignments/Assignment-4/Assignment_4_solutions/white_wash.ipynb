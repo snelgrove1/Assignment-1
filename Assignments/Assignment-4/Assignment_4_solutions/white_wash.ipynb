{
 "cells": [
  {
   "cell_type": "markdown",
   "metadata": {},
   "source": [
    "# WhiteWash\n",
    "\n",
    "## Using Python's List\n",
    "First version using Python's list. Note that because of _aliasing_, the general way of copying a 2D list correctly is to use `deepcopy` from `copy` module, otherwise you will change the original color map rather than the new one:"
   ]
  },
  {
   "cell_type": "code",
   "execution_count": 127,
   "metadata": {
    "collapsed": false
   },
   "outputs": [
    {
     "name": "stdout",
     "output_type": "stream",
     "text": [
      "before: [[0, 0, 0], [0.1, 0.1, 0.1], [0.5, 0.5, 0.5], [1, 1, 1]]\n",
      "after:  [[0.5, 0.5, 0.5], [0.55, 0.55, 0.55], [0.75, 0.75, 0.75], [1.0, 1.0, 1.0]]\n"
     ]
    }
   ],
   "source": [
    "import copy\n",
    "\n",
    "def WhiteWash(ColorMap):\n",
    "    \"\"\"white wash color map as a Pyhton's list\"\"\"\n",
    "    r = copy.deepcopy(ColorMap)\n",
    "    for c in r:\n",
    "        for i in range(3):\n",
    "            c[i] += 1.0\n",
    "            c[i] *= 0.5\n",
    "    return r\n",
    "\n",
    "# testing our function\n",
    "cm = [[0, 0, 0], [0.1, 0.1, 0.1], [0.5, 0.5, 0.5], [1, 1, 1]]\n",
    "print(\"before:\", cm)\n",
    "print(\"after: \", WhiteWash(cm))"
   ]
  },
  {
   "cell_type": "markdown",
   "metadata": {},
   "source": [
    "## Using `NumPy`'s Arrays"
   ]
  },
  {
   "cell_type": "code",
   "execution_count": 89,
   "metadata": {
    "collapsed": false
   },
   "outputs": [],
   "source": [
    "import numpy as np\n",
    "\n",
    "def NpWhiteWash(ColorMap):\n",
    "    \"\"\"white wash color map as a numpy's array\"\"\"\n",
    "    r =  np.ones_like(ColorMap)\n",
    "    r += ColorMap\n",
    "    r *= 0.5\n",
    "    return r"
   ]
  },
  {
   "cell_type": "code",
   "execution_count": 128,
   "metadata": {
    "collapsed": false
   },
   "outputs": [
    {
     "name": "stdout",
     "output_type": "stream",
     "text": [
      "before white wash:\n",
      "[[ 0.3693671   0.06834142  0.235066  ]\n",
      " [ 0.5078298   0.26719496  0.27624502]\n",
      " [ 0.3195595   0.65966793  0.29023593]\n",
      " [ 0.38680201  0.05843944  0.78120633]\n",
      " [ 0.98490823  0.5648239   0.71681058]\n",
      " [ 0.3943041   0.40318016  0.96016946]\n",
      " [ 0.36586212  0.5520173   0.74783541]\n",
      " [ 0.37417918  0.39398053  0.47782891]\n",
      " [ 0.78383372  0.20435043  0.414986  ]\n",
      " [ 0.60820456  0.86983325  0.42477988]]\n",
      "\n",
      "after white wash:\n",
      "[[ 0.68468355  0.53417071  0.617533  ]\n",
      " [ 0.7539149   0.63359748  0.63812251]\n",
      " [ 0.65977975  0.82983396  0.64511797]\n",
      " [ 0.69340101  0.52921972  0.89060316]\n",
      " [ 0.99245411  0.78241195  0.85840529]\n",
      " [ 0.69715205  0.70159008  0.98008473]\n",
      " [ 0.68293106  0.77600865  0.87391771]\n",
      " [ 0.68708959  0.69699026  0.73891446]\n",
      " [ 0.89191686  0.60217522  0.707493  ]\n",
      " [ 0.80410228  0.93491662  0.71238994]]\n",
      "\n",
      "after white wash with numpy:\n",
      "[[ 0.68468355  0.53417071  0.617533  ]\n",
      " [ 0.7539149   0.63359748  0.63812251]\n",
      " [ 0.65977975  0.82983396  0.64511797]\n",
      " [ 0.69340101  0.52921972  0.89060316]\n",
      " [ 0.99245411  0.78241195  0.85840529]\n",
      " [ 0.69715205  0.70159008  0.98008473]\n",
      " [ 0.68293106  0.77600865  0.87391771]\n",
      " [ 0.68708959  0.69699026  0.73891446]\n",
      " [ 0.89191686  0.60217522  0.707493  ]\n",
      " [ 0.80410228  0.93491662  0.71238994]]\n"
     ]
    }
   ],
   "source": [
    "cm = np.random.random(30).reshape((10, 3))\n",
    "\n",
    "# both functions should return the same result\n",
    "assert (WhiteWash(cm) == NpWhiteWash(cm)).all()\n",
    "\n",
    "print(\"before white wash:\")\n",
    "print(cm)\n",
    "print(\"\\nafter white wash:\")\n",
    "print(WhiteWash(cm))\n",
    "print(\"\\nafter white wash with numpy:\")\n",
    "print(NpWhiteWash(cm))"
   ]
  }
 ],
 "metadata": {
  "kernelspec": {
   "display_name": "Python 3",
   "language": "python",
   "name": "python3"
  },
  "language_info": {
   "codemirror_mode": {
    "name": "ipython",
    "version": 3
   },
   "file_extension": ".py",
   "mimetype": "text/x-python",
   "name": "python",
   "nbconvert_exporter": "python",
   "pygments_lexer": "ipython3",
   "version": "3.4.3"
  }
 },
 "nbformat": 4,
 "nbformat_minor": 0
}
