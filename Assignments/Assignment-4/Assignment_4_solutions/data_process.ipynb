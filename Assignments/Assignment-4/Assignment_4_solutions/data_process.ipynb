{
 "cells": [
  {
   "cell_type": "code",
   "execution_count": 1,
   "metadata": {
    "collapsed": true
   },
   "outputs": [],
   "source": [
    "%matplotlib inline"
   ]
  },
  {
   "cell_type": "code",
   "execution_count": 5,
   "metadata": {
    "collapsed": false
   },
   "outputs": [
    {
     "data": {
      "image/png": "[encoded data removed]",
      "text/plain": [
       "<matplotlib.figure.Figure at 0x73a9cc0>"
      ]
     },
     "metadata": {},
     "output_type": "display_data"
    }
   ],
   "source": [
    "import struct\n",
    "import numpy as np\n",
    "import matplotlib.pyplot as plt\n",
    "\n",
    "# opening the file as binary\n",
    "file = open('halo.dat', 'rb')\n",
    "data = file.read()\n",
    "\n",
    "# unpacking the first two parameters\n",
    "N_halo = struct.unpack(\"i\", data[:4])\n",
    "T_halo = struct.unpack(\"d\", data[4:12])\n",
    "\n",
    "# this line is the modified version of the Stack Overflow's answer;\n",
    "# note that '//' is an integer divison which returns\n",
    "# an integer rather than float; '/' doesn't work\n",
    "data_halo = struct.unpack(\"f\" * ((len(data) - 12) // 4), data[12:])\n",
    "\n",
    "# done with the file, closing to release the resources\n",
    "file.close()\n",
    "\n",
    "# converting to a numpy array\n",
    "data_halo = np.array(data_halo)\n",
    "\n",
    "# reshaping to two-dimentional array:\n",
    "# since N_halo is already a tuple with a single element,\n",
    "# we just add 7 to it by plus operator but first we need\n",
    "# to convert 7 to a tuple by (7,)\n",
    "data_halo = np.reshape(data_halo, N_halo + (7,))\n",
    "\n",
    "# we use the first element of N_halo tuple to initialize\n",
    "# our v_halo vector to zero\n",
    "v_halo = np.zeros(N_halo[0])\n",
    "\n",
    "# x, y and z velocities are on 4, 5 and 6 indices, respectively\n",
    "for i in range(len(data_halo)):\n",
    "    v_halo[i] = (data_halo[i, 4]**2) + (data_halo[i, 5]**2) + (data_halo[i, 6]**2)\n",
    "v_halo = np.sqrt(v_halo)\n",
    "\n",
    "# finally initializing the histogram and showing the result\n",
    "plt.hist(v_halo, 50)\n",
    "plt.xlabel('Speed')\n",
    "plt.ylabel('Frequency')\n",
    "plt.title('Velocity histogram (halo) Student ID')\n",
    "plt.show()"
   ]
  },
  {
   "cell_type": "code",
   "execution_count": 6,
   "metadata": {
    "collapsed": false
   },
   "outputs": [
    {
     "data": {
      "image/png": "[encoded data removed]",
      "text/plain": [
       "<matplotlib.figure.Figure at 0x8459518>"
      ]
     },
     "metadata": {},
     "output_type": "display_data"
    }
   ],
   "source": [
    "# opening the file as binary\n",
    "file = open('snapshot_010.dat', 'rb')\n",
    "data = file.read()\n",
    "\n",
    "# unpacking the first two parameters\n",
    "N_010 = struct.unpack(\"i\", data[:4])\n",
    "T_010 = struct.unpack(\"d\", data[4:12])\n",
    "\n",
    "# this line is the modified version of the Stack Overflow's answer;\n",
    "# note that '//' is an integer divison which returns\n",
    "# an integer rather than float; '/' doesn't work\n",
    "data_010 = struct.unpack(\"f\" * ((len(data) - 12) // 4), data[12:])\n",
    "\n",
    "# done with the file, closing to release the resources\n",
    "file.close()\n",
    "\n",
    "# converting to a numpy array\n",
    "data_010 = np.array(data_010)\n",
    "\n",
    "# reshaping to two-dimentional array:\n",
    "# since N_010 is already a tuple with a single element,\n",
    "# we just add 7 to it by plus operator but first we need\n",
    "# to convert 7 to a tuple by (7,)\n",
    "data_010 = np.reshape(data_010, N_010 + (7,))\n",
    "\n",
    "# we use the first element of N_010 tuple to initialize\n",
    "# our v_010 vector to zero\n",
    "v_010 = np.zeros(N_010[0])\n",
    "\n",
    "# x, y and z velocities are on 4, 5 and 6 indices, respectively\n",
    "for i in range(len(data_010)):\n",
    "    v_010[i] = (data_010[i, 4]**2) + (data_010[i, 5]**2) + (data_010[i, 6]**2)\n",
    "v_010 = np.sqrt(v_010)\n",
    "\n",
    "# finally initializing the histogram and showing the result\n",
    "plt.hist(v_010, 50)\n",
    "plt.xlabel('Speed')\n",
    "plt.ylabel('Frequency')\n",
    "plt.title('Velocity histogram (010) Student ID')\n",
    "plt.show()"
   ]
  },
  {
   "cell_type": "code",
   "execution_count": null,
   "metadata": {
    "collapsed": true
   },
   "outputs": [],
   "source": []
  }
 ],
 "metadata": {
  "kernelspec": {
   "display_name": "Python 3",
   "language": "python",
   "name": "python3"
  },
  "language_info": {
   "codemirror_mode": {
    "name": "ipython",
    "version": 3
   },
   "file_extension": ".py",
   "mimetype": "text/x-python",
   "name": "python",
   "nbconvert_exporter": "python",
   "pygments_lexer": "ipython3",
   "version": "3.4.3"
  }
 },
 "nbformat": 4,
 "nbformat_minor": 0
}
