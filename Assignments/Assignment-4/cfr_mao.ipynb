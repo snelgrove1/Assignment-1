#Tyler Snelgrove
#100263252

import numpy as np
import matplotlib.pyplot as plt
import matplotlib.animation as animation
from JSAnimation.IPython_display import display_animation
from mpl_toolkits.basemap import Basemap

map = Basemap()
map.drawcoastlines()

outbreak_1=np.loadtxt(fname='Source_data_for_CFR_vaccine_map_abridged.csv')
Category=outbreak_1[1:1204,0]
Lat=outbreak_1[1:1204,1]
Lon=outbreak_1[1:1204,2]
Cases=outbreak_1[1:1204,3]


plt.show()
print(dis)