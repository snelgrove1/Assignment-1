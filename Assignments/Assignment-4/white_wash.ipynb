#Tyler Snelgrove
#100263252