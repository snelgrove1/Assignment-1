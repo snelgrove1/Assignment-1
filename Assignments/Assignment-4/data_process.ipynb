#Tyler Snelgrove
#100263252

import struct
import matplotlib.pyplot as plt
import numpy as np

#from the provided website
with open('halo.dat', mode='rb') as file: # b is important -> binary
	fileContent = file.read()
with open('snapshot_010.dat', mode='rb') as file1:
	fileContent1 = file1.read()

struct.unpack("iiiii", fileContent[:20])
struct.unpack("i" * ((len(fileContent) -24) // 4), fileContent[20:-4])
struct.unpack("i", fileContent[-4:])

vx=[]
vy=[]
vz=[]
vt=((vx**2)+(vy**2)+(vz**2))**(1/2)

values=something for velocities
plt.hist(values, bins=50, facecolor='green')
plt.title("Velocity Histogram (halo) (100263252)")
plt.xlabel("Velocities")
plt.ylabel("Total Number")
plt.grid(True)

values1=something for velocities for other file
plt.hist(values1, bins=50, facecolor='blue')
plt.title("Velocity Histogram (010) (100263252)")
plt.xlabel("Velocities")
plt.ylabel("Total Number")
plt.grid(True)


plt.show()


